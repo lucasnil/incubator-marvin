{
 "cells": [
  {
   "cell_type": "code",
   "execution_count": 4,
   "metadata": {},
   "outputs": [
    {
     "name": "stdout",
     "output_type": "stream",
     "text": [
      "(['attr_conc.mean', 'attr_conc.sd', 'attr_ent.mean', 'attr_ent.sd', 'attr_to_inst', 'best_node.mean', 'best_node.sd', 'can_cor.mean', 'can_cor.sd', 'cat_to_num', 'class_conc.mean', 'class_conc.sd', 'class_ent', 'cor.mean', 'cor.sd', 'cov.mean', 'cov.sd', 'eigenvalues.mean', 'eigenvalues.sd', 'elite_nn.mean', 'elite_nn.sd', 'eq_num_attr', 'freq_class.mean', 'freq_class.sd', 'g_mean.mean', 'g_mean.sd', 'gravity', 'h_mean.mean', 'h_mean.sd', 'inst_to_attr', 'iq_range.mean', 'iq_range.sd', 'joint_ent.mean', 'joint_ent.sd', 'kurtosis.mean', 'kurtosis.sd', 'leaves', 'leaves_branch.mean', 'leaves_branch.sd', 'leaves_corrob.mean', 'leaves_corrob.sd', 'leaves_homo.mean', 'leaves_homo.sd', 'leaves_per_class.mean', 'leaves_per_class.sd', 'lh_trace', 'linear_discr.mean', 'linear_discr.sd', 'mad.mean', 'mad.sd', 'max.mean', 'max.sd', 'mean.mean', 'mean.sd', 'median.mean', 'median.sd', 'min.mean', 'min.sd', 'mut_inf.mean', 'mut_inf.sd', 'naive_bayes.mean', 'naive_bayes.sd', 'nodes', 'nodes_per_attr', 'nodes_per_inst', 'nodes_per_level.mean', 'nodes_per_level.sd', 'nodes_repeated.mean', 'nodes_repeated.sd', 'nr_attr', 'nr_bin', 'nr_cat', 'nr_class', 'nr_cor_attr', 'nr_disc', 'nr_inst', 'nr_norm', 'nr_num', 'nr_outliers', 'ns_ratio', 'num_to_cat', 'one_nn.mean', 'one_nn.sd', 'p_trace', 'random_node.mean', 'random_node.sd', 'range.mean', 'range.sd', 'roy_root', 'sd.mean', 'sd.sd', 'sd_ratio', 'skewness.mean', 'skewness.sd', 'sparsity.mean', 'sparsity.sd', 't_mean.mean', 't_mean.sd', 'tree_depth.mean', 'tree_depth.sd', 'tree_imbalance.mean', 'tree_imbalance.sd', 'tree_shape.mean', 'tree_shape.sd', 'var.mean', 'var.sd', 'var_importance.mean', 'var_importance.sd', 'w_lambda', 'worst_node.mean', 'worst_node.sd'], [0.20980477, 0.11958799, 2.2771912, 0.061039437, 0.02666666666666667, 0.6666666, 6.282881e-08, 0.728009, 0.36318693, 0.0, 0.27347386, 0.14091097, 1.584962500721156, 0.59411603, 0.33754432, 0.59665424, 0.55826724, 1.1432393, 2.0587714, 0.9, 0.078567415, 1.8780672345507194, 0.33333334, 0.0, 3.223073, 2.0229433, 3.2082811597489393, 2.978389, 2.1459482, 37.5, 1.7, 1.2754084, 3.0182211, 0.38218758, -0.81053615, 0.732691, 9, 3.7777777, 1.2018504, 0.11111111, 0.15051763, 37.466667, 13.142298, 0.33333334, 0.22222224, 32.47731351811997, 0.98, 0.044996567, 1.0934175, 0.57857823, 5.425, 2.443188, 3.4645, 1.9184852, 3.6125, 1.9193642, 1.85, 1.8083142, 0.8439328, 0.42220196, 0.9533334, 0.044996567, 8, 2.0, 0.05333333333333334, 1.6, 0.8944272, 2.6666667, 1.5275253, 4, 0, 0, 3, 0.5, 2, 150, 1, 4, 1, 1.698308838945616, nan, 0.96000004, 0.056218266, 1.1918988203346155, 0.62666667, 0.04661372, 3.5749998, 1.65, 32.19192247318805, 0.94786704, 0.57129943, 1.2708666438750897, 0.062731974, 0.29439896, 0.028714776, 0.011032357, 3.4705555, 1.9048021, 3.0588236, 1.4348601, 0.19491705, 0.1330071, 0.27083334, 0.107119605, 1.1432393, 1.3325465, 0.25, 0.2869011, 0.02343863535773102, 0.56000006, 0.078252524])\n"
     ]
    }
   ],
   "source": [
    "import marvin_metalearning_mfe_engine\n",
    "\n",
    "# Load a dataset\n",
    "from sklearn.datasets import load_iris\n",
    "from pymfe.mfe import MFE\n",
    "\n",
    "data = load_iris()\n",
    "y = data.target\n",
    "X = data.data\n",
    "\n",
    "# Extracting default measures\n",
    "mfe = MFE()\n",
    "mfe.fit(X, y)\n",
    "ft = mfe.extract()\n",
    "print(ft)"
   ]
  },
  {
   "cell_type": "code",
   "execution_count": 5,
   "metadata": {},
   "outputs": [
    {
     "name": "stdout",
     "output_type": "stream",
     "text": [
      "(['attr_conc.mean', 'attr_conc.sd', 'attr_ent.mean', 'attr_ent.sd', 'attr_to_inst', 'can_cor.mean', 'can_cor.sd', 'cat_to_num', 'class_conc.mean', 'class_conc.sd', 'class_ent', 'cor.mean', 'cor.sd', 'cov.mean', 'cov.sd', 'eigenvalues.mean', 'eigenvalues.sd', 'eq_num_attr', 'freq_class.mean', 'freq_class.sd', 'g_mean.mean', 'g_mean.sd', 'gravity', 'h_mean.mean', 'h_mean.sd', 'inst_to_attr', 'iq_range.mean', 'iq_range.sd', 'joint_ent.mean', 'joint_ent.sd', 'kurtosis.mean', 'kurtosis.sd', 'lh_trace', 'mad.mean', 'mad.sd', 'max.mean', 'max.sd', 'mean.mean', 'mean.sd', 'median.mean', 'median.sd', 'min.mean', 'min.sd', 'mut_inf.mean', 'mut_inf.sd', 'nr_attr', 'nr_bin', 'nr_cat', 'nr_class', 'nr_cor_attr', 'nr_disc', 'nr_inst', 'nr_norm', 'nr_num', 'nr_outliers', 'ns_ratio', 'num_to_cat', 'p_trace', 'range.mean', 'range.sd', 'roy_root', 'sd.mean', 'sd.sd', 'sd_ratio', 'skewness.mean', 'skewness.sd', 'sparsity.mean', 'sparsity.sd', 't_mean.mean', 't_mean.sd', 'var.mean', 'var.sd', 'w_lambda'], [0.20980477, 0.11958799, 2.2771912, 0.061039437, 0.02666666666666667, 0.728009, 0.36318693, 0.0, 0.27347386, 0.14091097, 1.584962500721156, 0.59411603, 0.33754432, 0.59665424, 0.55826724, 1.1432393, 2.0587714, 1.8780672345507194, 0.33333334, 0.0, 3.223073, 2.0229433, 3.2082811597489393, 2.978389, 2.1459482, 37.5, 1.7, 1.2754084, 3.0182211, 0.38218758, -0.81053615, 0.732691, 32.47731351811997, 1.0934175, 0.57857823, 5.425, 2.443188, 3.4645, 1.9184852, 3.6125, 1.9193642, 1.85, 1.8083142, 0.8439328, 0.42220196, 4, 0, 0, 3, 0.5, 2, 150, 1, 4, 1, 1.698308838945616, nan, 1.1918988203346155, 3.5749998, 1.65, 32.19192247318805, 0.94786704, 0.57129943, 1.2708666438750897, 0.062731974, 0.29439896, 0.028714776, 0.011032357, 3.4705555, 1.9048021, 1.1432393, 1.3325465, 0.02343863535773102])\n"
     ]
    }
   ],
   "source": [
    "# Extracting general, statistical and information-theoretic measures\n",
    "mfe = MFE(groups=[\"general\", \"statistical\", \"info-theory\"])\n",
    "mfe.fit(X, y)\n",
    "ft = mfe.extract()\n",
    "print(ft)"
   ]
  },
  {
   "cell_type": "code",
   "execution_count": 14,
   "metadata": {
    "scrolled": true
   },
   "outputs": [
    {
     "name": "stdout",
     "output_type": "stream",
     "text": [
      "(['attr_conc.mean', 'attr_conc.sd', 'attr_ent.mean', 'attr_ent.sd', 'attr_to_inst', 'best_node.mean', 'best_node.sd', 'can_cor.mean', 'can_cor.sd', 'cat_to_num', 'class_conc.mean', 'class_conc.sd', 'class_ent', 'cor.mean', 'cor.sd', 'cov.mean', 'cov.sd', 'eigenvalues.mean', 'eigenvalues.sd', 'elite_nn.mean', 'elite_nn.sd', 'eq_num_attr', 'freq_class.mean', 'freq_class.sd', 'g_mean.mean', 'g_mean.sd', 'gravity', 'h_mean.mean', 'h_mean.sd', 'inst_to_attr', 'iq_range.mean', 'iq_range.sd', 'joint_ent.mean', 'joint_ent.sd', 'kurtosis.mean', 'kurtosis.sd', 'leaves', 'leaves_branch.mean', 'leaves_branch.sd', 'leaves_corrob.mean', 'leaves_corrob.sd', 'leaves_homo.mean', 'leaves_homo.sd', 'leaves_per_class.mean', 'leaves_per_class.sd', 'lh_trace', 'linear_discr.mean', 'linear_discr.sd', 'mad.mean', 'mad.sd', 'max.mean', 'max.sd', 'mean.mean', 'mean.sd', 'median.mean', 'median.sd', 'min.mean', 'min.sd', 'mut_inf.mean', 'mut_inf.sd', 'naive_bayes.mean', 'naive_bayes.sd', 'nodes', 'nodes_per_attr', 'nodes_per_inst', 'nodes_per_level.mean', 'nodes_per_level.sd', 'nodes_repeated.mean', 'nodes_repeated.sd', 'nr_attr', 'nr_bin', 'nr_cat', 'nr_class', 'nr_cor_attr', 'nr_disc', 'nr_inst', 'nr_norm', 'nr_num', 'nr_outliers', 'ns_ratio', 'num_to_cat', 'one_nn.mean', 'one_nn.sd', 'p_trace', 'random_node.mean', 'random_node.sd', 'range.mean', 'range.sd', 'roy_root', 'sd.mean', 'sd.sd', 'sd_ratio', 'skewness.mean', 'skewness.sd', 'sparsity.mean', 'sparsity.sd', 't_mean.mean', 't_mean.sd', 'tree_depth.mean', 'tree_depth.sd', 'tree_imbalance.mean', 'tree_imbalance.sd', 'tree_shape.mean', 'tree_shape.sd', 'var.mean', 'var.sd', 'var_importance.mean', 'var_importance.sd', 'w_lambda', 'worst_node.mean', 'worst_node.sd'], [0.20922244, 0.1199502, 2.2790105, 0.05742638, 0.02666666666666667, 0.6666666, 6.282881e-08, 0.72548574, 0.36680728, 0.0, 0.27232593, 0.14258948, 1.584962500721156, 0.58981574, 0.3419147, 0.5943227, 0.5603072, 1.1423229, 2.0571082, 0.88, 0.068853036, 1.8824081456478539, 0.33333334, 0.0, 3.2217214, 2.024568, 3.205174566228804, 2.9762902, 2.1489375, 37.5, 1.7, 1.2754084, 3.0219865, 0.38738045, -0.79537404, 0.7583578, 9, 3.7777777, 1.2018504, 0.11111111, 0.15051763, 37.466667, 13.142298, 0.33333334, 0.22222224, 32.549519287831124, 0.98, 0.044996567, 1.074885, 0.6067802, 5.425, 2.443188, 3.4636667, 1.9190179, 3.6125, 1.9193642, 1.85, 1.8083142, 0.8419866, 0.42517984, 0.9533334, 0.044996567, 8, 2.0, 0.05333333333333334, 1.6, 0.8944272, 2.6666667, 1.1547005, 4, 0, 0, 3, 0.5, 2, 150, 1, 4, 1, 1.7067062028890763, nan, 0.96000004, 0.056218266, 1.1872067595731897, 0.6666666, 6.282881e-08, 3.5749998, 1.65, 32.271952422215136, 0.9473104, 0.5714611, 1.2671845194356142, 0.06603417, 0.29886395, 0.028714776, 0.011032357, 3.469722, 1.905054, 3.0588236, 1.4348601, 0.19491705, 0.1330071, 0.27083334, 0.107119605, 1.1423228, 1.3312911, 0.25, 0.44888544, 0.0235254572908946, 0.58000004, 0.09454244])\n"
     ]
    }
   ],
   "source": [
    "#Getting data from CSV format\n",
    "import pandas as pd\n",
    "from pymfe.mfe import MFE\n",
    "from marvin_python_toolbox.common.data import MarvinData\n",
    "\n",
    "file_path = MarvinData.download_file(url=\"https://s3.amazonaws.com/marvin-engines-data/Iris.csv\")\n",
    "\n",
    "df = pd.read_csv(file_path).drop(\"Id\", axis=1)\n",
    "\n",
    "X, y = df.drop('Species', axis=1), df['Species']\n",
    "\n",
    "\n",
    "#For extracting meta-features, you should send X and y as a sequence, like numpy array or Python list. It is easy to make this using pandas:\n",
    "mfe = MFE()\n",
    "mfe.fit(X.values, y.values)\n",
    "\n",
    "ft = mfe.extract()\n",
    "print(ft)"
   ]
  }
 ],
 "metadata": {
  "kernelspec": {
   "display_name": "Python 3",
   "language": "python",
   "name": "python3"
  },
  "language_info": {
   "codemirror_mode": {
    "name": "ipython",
    "version": 3
   },
   "file_extension": ".py",
   "mimetype": "text/x-python",
   "name": "python",
   "nbconvert_exporter": "python",
   "pygments_lexer": "ipython3",
   "version": "3.7.3"
  }
 },
 "nbformat": 4,
 "nbformat_minor": 1
}
